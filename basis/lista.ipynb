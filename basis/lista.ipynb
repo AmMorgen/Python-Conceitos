{
 "cells": [
  {
   "cell_type": "code",
   "execution_count": null,
   "metadata": {},
   "outputs": [],
   "source": []
  },
  {
   "cell_type": "markdown",
   "metadata": {},
   "source": [
    "Listas em pyrhon são dinamicas e recebem qualquer tipo"
   ]
  },
  {
   "cell_type": "code",
   "execution_count": 7,
   "metadata": {},
   "outputs": [],
   "source": [
    "#exemplo de inicialização de lista\n",
    "\n",
    "lista = [1,7,3,5,4, 0]\n",
    "lista2= ['a ', ' c', 'd']\n",
    "lista3 = [9,59,99,69,88]"
   ]
  },
  {
   "cell_type": "code",
   "execution_count": 2,
   "metadata": {},
   "outputs": [
    {
     "name": "stdout",
     "output_type": "stream",
     "text": [
      "nada aqui\n"
     ]
    }
   ],
   "source": [
    "#pecorrer a lista e procurar um item\n",
    "\n",
    "if 2 in lista:\n",
    "    print(\"encontrei lista\")\n",
    "else:\n",
    "    print(\"nada aqui\")"
   ]
  },
  {
   "cell_type": "code",
   "execution_count": 3,
   "metadata": {},
   "outputs": [
    {
     "name": "stdout",
     "output_type": "stream",
     "text": [
      "[0, 1, 3, 4, 5, 7]\n"
     ]
    }
   ],
   "source": [
    "#ordenar uma lista\n",
    "lista.sort()\n",
    "print(lista)"
   ]
  },
  {
   "cell_type": "code",
   "execution_count": 4,
   "metadata": {},
   "outputs": [
    {
     "name": "stdout",
     "output_type": "stream",
     "text": [
      "1\n"
     ]
    }
   ],
   "source": [
    "#contar o numero de recorrencias de um valor \n",
    "print(lista.count(4))"
   ]
  },
  {
   "cell_type": "code",
   "execution_count": 5,
   "metadata": {},
   "outputs": [
    {
     "name": "stdout",
     "output_type": "stream",
     "text": [
      "[0, 1, 3, 4, 5, 7, 42]\n"
     ]
    }
   ],
   "source": [
    "#adicionar elemento na lista \n",
    "#adiciona um por vez no final da lista\n",
    "lista.append(42)\n",
    "print(lista)"
   ]
  },
  {
   "cell_type": "code",
   "execution_count": 6,
   "metadata": {},
   "outputs": [
    {
     "name": "stdout",
     "output_type": "stream",
     "text": [
      "[0, 1, 3, 4, 5, 7, 42, 'a ', ' c', 'd']\n"
     ]
    }
   ],
   "source": [
    "#juntas listas \n",
    "\n",
    "novalis = lista+lista2\n",
    "\n",
    "print(novalis)"
   ]
  },
  {
   "cell_type": "code",
   "execution_count": 8,
   "metadata": {},
   "outputs": [
    {
     "name": "stdout",
     "output_type": "stream",
     "text": [
      "[1, 7, 3, 5, 4, 0, 9, 59, 99, 69, 88]\n"
     ]
    }
   ],
   "source": [
    "#juntar llistas usando extend\n",
    "lista.extend(lista3)\n",
    "print(lista)"
   ]
  },
  {
   "cell_type": "code",
   "execution_count": 9,
   "metadata": {},
   "outputs": [
    {
     "name": "stdout",
     "output_type": "stream",
     "text": [
      "[88, 69, 99, 59, 9, 0, 4, 5, 3, 7, 1]\n"
     ]
    }
   ],
   "source": [
    "#inverter uma lista\n",
    "\n",
    "\n",
    "lista.reverse()\n",
    "print(lista)"
   ]
  },
  {
   "cell_type": "code",
   "execution_count": 10,
   "metadata": {},
   "outputs": [
    {
     "name": "stdout",
     "output_type": "stream",
     "text": [
      "[88, 69, 99, 59, 9]\n"
     ]
    }
   ],
   "source": [
    "#inverter usando slice\n",
    "\n",
    "print(lista3[::-1])"
   ]
  },
  {
   "cell_type": "code",
   "execution_count": null,
   "metadata": {},
   "outputs": [],
   "source": [
    "#copiar uma lista\n",
    "\n",
    "\n",
    "listaCopy = lista3.copy()\n",
    "print(listaCopy)"
   ]
  }
 ],
 "metadata": {
  "kernelspec": {
   "display_name": "Python 3",
   "language": "python",
   "name": "python3"
  },
  "language_info": {
   "codemirror_mode": {
    "name": "ipython",
    "version": 3
   },
   "file_extension": ".py",
   "mimetype": "text/x-python",
   "name": "python",
   "nbconvert_exporter": "python",
   "pygments_lexer": "ipython3",
   "version": "3.10.12"
  },
  "orig_nbformat": 4
 },
 "nbformat": 4,
 "nbformat_minor": 2
}
